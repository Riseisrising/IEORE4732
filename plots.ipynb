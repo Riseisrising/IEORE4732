{
 "cells": [
  {
   "cell_type": "markdown",
   "metadata": {},
   "source": [
    "# Market Price vs. Model Price"
   ]
  },
  {
   "cell_type": "code",
   "execution_count": 10,
   "metadata": {
    "collapsed": false
   },
   "outputs": [
    {
     "data": {
      "text/html": [
       "<div>\n",
       "<table border=\"1\" class=\"dataframe\">\n",
       "  <thead>\n",
       "    <tr style=\"text-align: right;\">\n",
       "      <th></th>\n",
       "      <th>maturity(months)</th>\n",
       "      <th>LIBOR_rates(%)</th>\n",
       "    </tr>\n",
       "  </thead>\n",
       "  <tbody>\n",
       "    <tr>\n",
       "      <th>0</th>\n",
       "      <td>1</td>\n",
       "      <td>0.2647</td>\n",
       "    </tr>\n",
       "    <tr>\n",
       "      <th>1</th>\n",
       "      <td>2</td>\n",
       "      <td>0.2890</td>\n",
       "    </tr>\n",
       "    <tr>\n",
       "      <th>2</th>\n",
       "      <td>3</td>\n",
       "      <td>0.3140</td>\n",
       "    </tr>\n",
       "    <tr>\n",
       "      <th>3</th>\n",
       "      <td>6</td>\n",
       "      <td>0.4657</td>\n",
       "    </tr>\n",
       "    <tr>\n",
       "      <th>4</th>\n",
       "      <td>12</td>\n",
       "      <td>0.7975</td>\n",
       "    </tr>\n",
       "  </tbody>\n",
       "</table>\n",
       "</div>"
      ],
      "text/plain": [
       "   maturity(months)  LIBOR_rates(%)\n",
       "0                 1          0.2647\n",
       "1                 2          0.2890\n",
       "2                 3          0.3140\n",
       "3                 6          0.4657\n",
       "4                12          0.7975"
      ]
     },
     "execution_count": 10,
     "metadata": {},
     "output_type": "execute_result"
    }
   ],
   "source": [
    "import pandas as pd\n",
    "L_mkt = pd.read_table(\"LIBOR_20110214.txt\", \" \")\n",
    "L_mkt.head()"
   ]
  },
  {
   "cell_type": "code",
   "execution_count": 11,
   "metadata": {
    "collapsed": false
   },
   "outputs": [
    {
     "data": {
      "text/html": [
       "<div>\n",
       "<table border=\"1\" class=\"dataframe\">\n",
       "  <thead>\n",
       "    <tr style=\"text-align: right;\">\n",
       "      <th></th>\n",
       "      <th>term(year)</th>\n",
       "      <th>Swap_rates(%)</th>\n",
       "    </tr>\n",
       "  </thead>\n",
       "  <tbody>\n",
       "    <tr>\n",
       "      <th>0</th>\n",
       "      <td>2</td>\n",
       "      <td>1.0481</td>\n",
       "    </tr>\n",
       "    <tr>\n",
       "      <th>1</th>\n",
       "      <td>3</td>\n",
       "      <td>1.5577</td>\n",
       "    </tr>\n",
       "    <tr>\n",
       "      <th>2</th>\n",
       "      <td>5</td>\n",
       "      <td>2.5569</td>\n",
       "    </tr>\n",
       "    <tr>\n",
       "      <th>3</th>\n",
       "      <td>7</td>\n",
       "      <td>3.1850</td>\n",
       "    </tr>\n",
       "    <tr>\n",
       "      <th>4</th>\n",
       "      <td>10</td>\n",
       "      <td>3.7225</td>\n",
       "    </tr>\n",
       "  </tbody>\n",
       "</table>\n",
       "</div>"
      ],
      "text/plain": [
       "   term(year)  Swap_rates(%)\n",
       "0           2         1.0481\n",
       "1           3         1.5577\n",
       "2           5         2.5569\n",
       "3           7         3.1850\n",
       "4          10         3.7225"
      ]
     },
     "execution_count": 11,
     "metadata": {},
     "output_type": "execute_result"
    }
   ],
   "source": [
    "S_mkt = pd.read_table(\"Swap_20110214.txt\", \" \")\n",
    "S_mkt.head()"
   ]
  },
  {
   "cell_type": "code",
   "execution_count": 12,
   "metadata": {
    "collapsed": false
   },
   "outputs": [
    {
     "data": {
      "text/html": [
       "<div>\n",
       "<table border=\"1\" class=\"dataframe\">\n",
       "  <thead>\n",
       "    <tr style=\"text-align: right;\">\n",
       "      <th></th>\n",
       "      <th>maturity(months)</th>\n",
       "      <th>LIBOR_rates_Vasicek(%)</th>\n",
       "      <th>LIBOR_rates_CIR(%)</th>\n",
       "      <th>LIBOR_rates_CIR_Two_Factor(%)</th>\n",
       "    </tr>\n",
       "  </thead>\n",
       "  <tbody>\n",
       "    <tr>\n",
       "      <th>0</th>\n",
       "      <td>1</td>\n",
       "      <td>0.245284</td>\n",
       "      <td>0.251182</td>\n",
       "      <td>0.251393</td>\n",
       "    </tr>\n",
       "    <tr>\n",
       "      <th>1</th>\n",
       "      <td>2</td>\n",
       "      <td>0.291303</td>\n",
       "      <td>0.292866</td>\n",
       "      <td>0.293101</td>\n",
       "    </tr>\n",
       "    <tr>\n",
       "      <th>2</th>\n",
       "      <td>3</td>\n",
       "      <td>0.336909</td>\n",
       "      <td>0.334513</td>\n",
       "      <td>0.334774</td>\n",
       "    </tr>\n",
       "    <tr>\n",
       "      <th>3</th>\n",
       "      <td>6</td>\n",
       "      <td>0.471350</td>\n",
       "      <td>0.459205</td>\n",
       "      <td>0.459547</td>\n",
       "    </tr>\n",
       "    <tr>\n",
       "      <th>4</th>\n",
       "      <td>12</td>\n",
       "      <td>0.730311</td>\n",
       "      <td>0.707145</td>\n",
       "      <td>0.707675</td>\n",
       "    </tr>\n",
       "  </tbody>\n",
       "</table>\n",
       "</div>"
      ],
      "text/plain": [
       "   maturity(months)  LIBOR_rates_Vasicek(%)  LIBOR_rates_CIR(%)  \\\n",
       "0                 1                0.245284            0.251182   \n",
       "1                 2                0.291303            0.292866   \n",
       "2                 3                0.336909            0.334513   \n",
       "3                 6                0.471350            0.459205   \n",
       "4                12                0.730311            0.707145   \n",
       "\n",
       "   LIBOR_rates_CIR_Two_Factor(%)  \n",
       "0                       0.251393  \n",
       "1                       0.293101  \n",
       "2                       0.334774  \n",
       "3                       0.459547  \n",
       "4                       0.707675  "
      ]
     },
     "execution_count": 12,
     "metadata": {},
     "output_type": "execute_result"
    }
   ],
   "source": [
    "L_calibrated = pd.read_table(\"LIBOR_calibrated_20110214.txt\", \" \")\n",
    "L_calibrated.head()"
   ]
  },
  {
   "cell_type": "code",
   "execution_count": 13,
   "metadata": {
    "collapsed": false
   },
   "outputs": [
    {
     "data": {
      "text/html": [
       "<div>\n",
       "<table border=\"1\" class=\"dataframe\">\n",
       "  <thead>\n",
       "    <tr style=\"text-align: right;\">\n",
       "      <th></th>\n",
       "      <th>term(year)</th>\n",
       "      <th>Swap_rates_Vasicek(%)</th>\n",
       "      <th>Swap_rates_CIR(%)</th>\n",
       "      <th>Swap_rates_CIR_Two_Factor(%)</th>\n",
       "    </tr>\n",
       "  </thead>\n",
       "  <tbody>\n",
       "    <tr>\n",
       "      <th>0</th>\n",
       "      <td>2</td>\n",
       "      <td>1.19986</td>\n",
       "      <td>1.18077</td>\n",
       "      <td>1.18174</td>\n",
       "    </tr>\n",
       "    <tr>\n",
       "      <th>1</th>\n",
       "      <td>3</td>\n",
       "      <td>1.61834</td>\n",
       "      <td>1.62332</td>\n",
       "      <td>1.62476</td>\n",
       "    </tr>\n",
       "    <tr>\n",
       "      <th>2</th>\n",
       "      <td>5</td>\n",
       "      <td>2.31776</td>\n",
       "      <td>2.38286</td>\n",
       "      <td>2.38498</td>\n",
       "    </tr>\n",
       "    <tr>\n",
       "      <th>3</th>\n",
       "      <td>7</td>\n",
       "      <td>2.86598</td>\n",
       "      <td>2.96827</td>\n",
       "      <td>2.97055</td>\n",
       "    </tr>\n",
       "    <tr>\n",
       "      <th>4</th>\n",
       "      <td>10</td>\n",
       "      <td>3.47559</td>\n",
       "      <td>3.57656</td>\n",
       "      <td>3.57828</td>\n",
       "    </tr>\n",
       "  </tbody>\n",
       "</table>\n",
       "</div>"
      ],
      "text/plain": [
       "   term(year)  Swap_rates_Vasicek(%)  Swap_rates_CIR(%)  \\\n",
       "0           2                1.19986            1.18077   \n",
       "1           3                1.61834            1.62332   \n",
       "2           5                2.31776            2.38286   \n",
       "3           7                2.86598            2.96827   \n",
       "4          10                3.47559            3.57656   \n",
       "\n",
       "   Swap_rates_CIR_Two_Factor(%)  \n",
       "0                       1.18174  \n",
       "1                       1.62476  \n",
       "2                       2.38498  \n",
       "3                       2.97055  \n",
       "4                       3.57828  "
      ]
     },
     "execution_count": 13,
     "metadata": {},
     "output_type": "execute_result"
    }
   ],
   "source": [
    "S_calibrated = pd.read_table(\"Swap_calibrated_20110214.txt\", \" \")\n",
    "S_calibrated.head()"
   ]
  },
  {
   "cell_type": "code",
   "execution_count": 15,
   "metadata": {
    "collapsed": true
   },
   "outputs": [],
   "source": [
    "import matplotlib.pyplot as plt\n",
    "%matplotlib inline"
   ]
  },
  {
   "cell_type": "code",
   "execution_count": 58,
   "metadata": {
    "collapsed": false
   },
   "outputs": [
    {
     "data": {
      "text/plain": [
       "<matplotlib.legend.Legend at 0x11fe1b310>"
      ]
     },
     "execution_count": 58,
     "metadata": {},
     "output_type": "execute_result"
    },
    {
     "data": {
      "image/png": "[encoded data removed]",
      "text/plain": [
       "<matplotlib.figure.Figure at 0x11fc80dd0>"
      ]
     },
     "metadata": {},
     "output_type": "display_data"
    }
   ],
   "source": [
    "Market, = plt.plot(L_mkt[\"maturity(months)\"], L_mkt[\"LIBOR_rates(%)\"], 'r^')\n",
    "Vasicek, = plt.plot(L_mkt[\"maturity(months)\"], L_calibrated[\"LIBOR_rates_Vasicek(%)\"], 'rs')\n",
    "CIR, = plt.plot(L_mkt[\"maturity(months)\"], L_calibrated[\"LIBOR_rates_CIR(%)\"], 'b^')\n",
    "CIR_Two_Factor, = plt.plot(L_mkt[\"maturity(months)\"], L_calibrated[\"LIBOR_rates_CIR_Two_Factor(%)\"], 'bs')\n",
    "plt.xlabel(\"maturity(months)\")\n",
    "plt.ylabel(\"LIBOR_rates(%)\")\n",
    "plt.legend(handles=[Market, Vasicek, CIR, CIR_Two_Factor], loc=2)"
   ]
  },
  {
   "cell_type": "code",
   "execution_count": 60,
   "metadata": {
    "collapsed": false
   },
   "outputs": [
    {
     "data": {
      "text/plain": [
       "<matplotlib.legend.Legend at 0x120167e50>"
      ]
     },
     "execution_count": 60,
     "metadata": {},
     "output_type": "execute_result"
    },
    {
     "data": {
      "image/png": "[encoded data removed]",
      "text/plain": [
       "<matplotlib.figure.Figure at 0x1200ea150>"
      ]
     },
     "metadata": {},
     "output_type": "display_data"
    }
   ],
   "source": [
    "Market, = plt.plot(S_mkt[\"term(year)\"], S_mkt[\"Swap_rates(%)\"], 'r^')\n",
    "Vasicek, = plt.plot(S_mkt[\"term(year)\"], S_calibrated[\"Swap_rates_Vasicek(%)\"], 'rs')\n",
    "CIR, = plt.plot(S_mkt[\"term(year)\"], S_calibrated[\"Swap_rates_CIR(%)\"], 'g^')\n",
    "CIR_Two_Factor, = plt.plot(S_mkt[\"term(year)\"], S_calibrated[\"Swap_rates_CIR_Two_Factor(%)\"], 'bs')\n",
    "plt.xlabel(\"term(year)\")\n",
    "plt.ylabel(\"Swap_rates(%)\")\n",
    "plt.legend(handles=[Market, Vasicek, CIR, CIR_Two_Factor], loc=4)"
   ]
  },
  {
   "cell_type": "code",
   "execution_count": null,
   "metadata": {
    "collapsed": true
   },
   "outputs": [],
   "source": []
  }
 ],
 "metadata": {
  "kernelspec": {
   "display_name": "Python 2",
   "language": "python",
   "name": "python2"
  },
  "language_info": {
   "codemirror_mode": {
    "name": "ipython",
    "version": 2
   },
   "file_extension": ".py",
   "mimetype": "text/x-python",
   "name": "python",
   "nbconvert_exporter": "python",
   "pygments_lexer": "ipython2",
   "version": "2.7.12"
  }
 },
 "nbformat": 4,
 "nbformat_minor": 0
}
